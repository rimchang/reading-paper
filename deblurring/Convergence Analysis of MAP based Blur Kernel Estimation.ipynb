{
 "cells": [
  {
   "cell_type": "markdown",
   "metadata": {},
   "source": [
    "# Convergence Analysis of MAP based Blur Kernel Estimation\n",
    "\n",
    "## Abstract\n",
    "\n",
    "blind-deconvolution에 대한 한가지 유명한 방법론은 문제를 map로 구성하고 gradient of latent image에 대해 sparsity prior를 포함하는 것입니다. 그 후 blur kernel, latent image를 교대로 추정합니다. 몇몇 성공적인 map를 기반으로한 방법들이 제안되었지만 이들은 sparsity prior가 blurry image를 선호하는 것처럼 보여 이들의 수렴에 대한 논란이 있었습니다. 이 논문에서는 이들 문제를 다시 생각해보고 map를 기반으로한 방법에 대한 수렴에 대한 분석을 제공합니다. 우리는 bline-deconvolution에 대한 보편적인 joint energy function을 약간 수정하는 것을 제안합니다. 이허나 수정된 energy function은 원래와 같은 alternating estimation 과정을 보이지만 보다 명확하게 blind-deconvolution 이 작동하는지를 보여줍니다. 그 다음 특정 조건하에서 energy function이 no-blur이 아닌 솔루션으로 가는 것에 대한 것을 보여주며 이는 이전의 map 접근 방식이 어떻게 작동하는지를 설명합니다. 수정된 energy function과 수렴 조건은 다른 blur kernel의 질을 비교하는 방법을 제안하며 automatic blur kernel size selection, light streak를 이용한 blur kernel estimation, defocus estimation에 대한 적용가능성을 보여줍니다. \n"
   ]
  },
  {
   "cell_type": "markdown",
   "metadata": {},
   "source": [
    "## 1. Introduction\n",
    "\n",
    "카메라 흔들림 때문에 발생하는 Image blur는 이미지의 질을 낮추는 매우 짜증나는 현상중 하나입니다. Image blure는 보통 다음과 같이 모델링 됩니다.\n",
    "\n",
    "## $b = k * l +n$\n",
    "\n",
    "b는 관찰된 blurry image이며 k는 blur kernel, l는 latent sharp image, n은 noise, \\* 은 convolution operator 입니다. blind-deconvolution은 주어진 blurry image b에서 l, k를 추정하는 것이며 이는 가능한 l, k가 observed data b보다 극도로 많은 ill-posed problem 입니다. \n",
    "\n",
    " blind-deconvolution을 위한 하나의 접근방법은 map로 문제를 구성하고 latent image의 gradient에 sparsity prior를 추가합니다. 그 후 k,l을 교대로 추정하게 됩니다. 몇몇의 성공적인 sparsity prior를 가진 map 접근 방법이 제안되었지만 이들의 수렴성에 대해서는 많은 논란이 있습니다. Fergus 는 그들의 논문에서 처음에는 map 접근 방법을 사용했지만 실패했고 variational bayesian 방법을 사용했습니다. Levin은 sparsity prior가 있는 map 방법은 올바른 솔루션으로 수렴하지 못한다고 주장했습니다. 이들은 sparsity prior가 k=dirac delta function과 같은 no-blur solution을 선호한다고 주장했습니다. 이러한 수렴에 대한 문제를 해결하기 위해 Krishnan은 normalized sparsity measure를 도입하였고 이는 blurry 한 것들중 sharp edge를 가진 것들을 선호하도록 했습니다. Xu 는 비정상적으로 sparse image representation을 사용한 map 기반 방법들이 올바른 솔루션에 수렴할 수 있다고 주장했으며 L-0 norm 을 기반으로한 image prior을 사용한 blind-deconvolution 방법을 제시했습니다. 그러나 이들의 성공적인 결과가 optimization process 나 energy function 혹은 다른 요인들 때문인지는 확실하지 않습니다.\n",
    " \n",
    " 이 논문에서는 map을 기반으로한 방법의 수렴에 대한 분석을 제공합니다. 우리의 분석은 map을 기반으로 한 성공이 이들의 energy function이 no-blur 솔루션중 올바른 솔루션으로 선호하게 만든다는 것을 보이고 특정 조건 하에서 naive한 map 기반 방법이 올바른 솔루션에 수렴할 수 잇다는 것을 보였습니다. 수렴에 대한 분석을 위해서 우리는 직접적인 접근 방법을 사용합니다. 우리는 서로다른 솔루션에대한 energy를 직접 비교하고 어떤 솔루션이 energy function에 대해 선호되는 지를 비교합니다. 우리는 또한 많은 수의 이미지를 가지고 수렴 조건에 대해 실험적으로 분석하고 서로 다른 이미지간에 수렴 조건이 일관서이 있음을 보입니다. 우리의 분석 결과는 극도로 sparse image representation를 기반으로한 map 방법의 성공을 뒷받침 합니다. \n",
    " \n",
    " 이를 위해 우리는 l,k 에 대한 joint energy function을 간단하게 수정하고 k에 대한 energy function을 유도합니다. 이전의 연구에서 전형적으로 사용되는 joint energy function은 k,l 이라는 두 변수를 포함하고 이는 energy function에 대한 분석을 힘들게 합니다. 이는 모든 가능한 k,l 조합을 고려해야만 합니다. 우리는 energy function에서 하나의 변수를 제거함으로써 보다 분석을 쉽게 합니다. 또한 재 구성된 energy function은 map을 기반으로한 blind-deconvolution이 어떻게 작동하는지를 분명하게 드러냅니다. 변수가 하나뿐인 energy function에도 불구하고 각기 다른 솔루션에 대한 energy를 비교하는 것은 여전히 어렵습니다. 재구성된 function은 하나의 energy value를 계산하기 위해 복잡한 non-linear optimization 문제를 풀어야 하고 이는 true-enery를 계산하는 것을 불가능하게 합니다. 일반적으로 true energy보다 큰 근사값을 계산할 수는 있습니다. 그러나 우리는 특정한 형태의 energy function을 통해 no-blur solution에 대한 true-energy를 계산할 수 있음을 보입니다. 이러한 것을 기반으로 우리의 실험은 올바른 솔루션에 대한 근사된 energy가 특정 조건이 만족하는 한 true-energy보다 낮다는 것을 보여줍니다.\n",
    " \n",
    " 재 구성된 에너지 함수와 수렴 조건은 blur-kernel에 대한 질을 비교할 수 있는 효과적인 매트릭을 제공합니다. 우리는 automatic blur size estimation, blur kernel estimation using light streak, defocus estimation과 같은 de-blurring의 다른 문제들을 해결하기 위한 범용적은 매트릭으로 사용할 수 있음을 보입니다. \n",
    " \n",
    "map 기반 방법들의 성공에 대한 비밀을 풀기 위한 비슷한 접근방법이 있었습니다. Perrone, Favaro는 이전의 map 기반의 접근 방법의 성공은 iterative kernel estimation 과정에서의 지연된 scaling starategy 때문이라고 주장합니다. Krishnan은 map기반의 방법과 VB의 접근 방법이 sparsity promition, blure kernel에 대한 l2 norm prior, covex sub-problem, multi scale 방법과 같은 공통된 것들을 공유한다고 주장하였습니다. 하지만 아무도 energy function에는 주목하지 않았고 이는 blind-deconvolution process의 가장 중요한 요소입니다.\n",
    "\n",
    "우리의 작업과 가장 관련있는 작업은 Wipf and Zhang 입니다. 이들은 necessary approximation? 을 가진 VB접근 방법을 사용하여 이들은 noise level, latent image, blur kernel을 결합된  보편적이지 않은(iterative estimation이 보편적인 방법인가보다) map 접근방법에 대한 tractable optimization 결과를 제시합니다. 또한 이들은 VB, MAP 접근 방법에 대한 차이를 논의했으며 MAP 기반 접근방법의 수렴에 대해서도 논의하였습니다. 우리의 연구도 MAP 방법에 대한 수렴을 논의하지만 몇가지 다른 점이 있습니다. 첫째로 우리는 많은 실험적 결과를 통한 분석을 제공하며 [21]의 방법들은 완전히 수학적 방법에 기반하며 실험적 결과를 제공하지 않습니다. 두번째로 우리의 분석은 energy minimization의 관점에서의 map를 다루고 sharp solution을 선호하는 energy function의 조건을 찾으려고 합니다. 세번째로 우리의 분석은 보다 간단하고 직관적인 수식을 기반으로 하며 map을 기반으로한 blind-deconvolution을 설계하기 위한 간단하고 실용적인 가이드라인을 제공합니다. e.g prior term의 가중치에 대한 효과적이고 적절한 범위등, 네번째로 우리의 수정된 에너지 함수는 다른 형태의 blur kernel estimation 문제에 쉽게 적용 가능합니다.\n"
   ]
  },
  {
   "cell_type": "markdown",
   "metadata": {},
   "source": [
    "## 2. Related Work\n",
    "\n",
    "우리는 최근의 blind-deconvolution 방법들을 주요한 3가지 카테고리로 나눴습니다. 첫번째 카테고리는 map 기반 방법들이며 이는 latent image와 blur kernel을 joint posterior distribution을 최대화 하도록 교대로 추정합니다. Chan and Wong은 total variation을 기반으로한 joint energy function을 최소화 함으로써 k, l을 추정했습니다. Shan은 piecewise continuous polynomial을 기반으로한 image derivative에 대한 prior를 도입하고 효율적인 최적화 방법을 제안했습니다. 이들이 작은 scale의 blur kernel만을 추정할 수 있지만 [11] 에서 볼 수 있듯이 no-blur 솔루션으로 종종 수렴합니다. Krishnan은 no-blur 솔루션을 피할 수 있는 nomalized sparsity measure를 도입하였습니다. 이 measure는 매우 non-linear 해서 상대적으로 많은 연산시간이 필요합니다. 더 최근에는 Xu 가 image gradient에서의 L-0 norm에 대한 근사된 prior를 제안했습니다. Pan은 image gradient대신 dark channel에 대한 sparsity prior를 제안했습니다. 이렇게 많은 map를 기반으로한 접근방법들이 제안되었지만 어떻게 혹은 언제 이들이 올바른 솔루션에 수렴하는지는 불확실합니다. \n",
    "\n",
    "두번째 카테고리는 VB를 기반으로 한 방법이며 이는 모든 가능한 Image에 대한 marginalization을 필요로 합니다. Fergus는 Map를 기반으로한 alternating estimation에 실패했다고 보고했습니다. 이들은 no-blur solution혹은 발산하도록 estimation process가 동작한다고 보고했으며 이들은 이러한 수렴에 대한 문제를 극복하기 위해 VB 접근방법을 제시했습니다. Levin은 Map 기반 방법이 sparsity prior가 blurry image에 대해 선호하기 때문에 수렴에 문제가 있다고 주장했으며 VB 접근방법을 제안했습니다. 그 후 이들은 latent image에 대한 marginalizing에 대한 효율적인 근사방법을 제안했습니다. Wipf and Zhang은 VB 접근방법이 latent image, noise, blur kernel이 결합되어 있고 특정한 형태의 prior를 가진 보편적이지 않은 map 문제로 재공식화 될 수 있음을 보였습니다. 또한 이들은 map 기반 방법의 수렴에 대한 이론적 분석을 제공했습니다. VB 접근 방법은 정확한 blur kernel을 추정하기 위한 방법으로 증명되어졌지만 이들은 복잡한 수학적 유도가 필요하며 작은 이미지에 대해서도 상대적으로 긴 연산시간을 가집니다.\n",
    "\n",
    "세번째 카테고리는 명시적으로 edge detection을 사용합니다. 이들은 큰 blur kernel을 추정하기 위한 multi scale iterative 프레임워크에서의 edge detection 을 사용합니다. 명시적으로 edge detection을 사용했기 떄문에 이들의 방법은 no-blur solution을 피할 수 있고 상대적으로 짧은 연산시간에서의 sota result를 달성합니다. 이들의 방법은 edge detection을 포함하기 때문에 latetn image에서의 sparse, sharp gradient map을 예측하게 됩니다. 또한 이들은 map 기반의 방법의 변형으로 생각될 수 있습니다. \n"
   ]
  },
  {
   "cell_type": "markdown",
   "metadata": {},
   "source": [
    "## 3. MAP based Blind Deconvolution\n",
    "\n",
    "많은 기존의 blind-deconvolution 방법들은 다음과 같은 joint energy function 혹은 변종을 최적화 함으로써 latent image I, blur kernel k를 추정하려고 합니다.\n",
    "\n",
    "## $f(k,l) = ||k * l - b ||^2 + \\lambda_I \\rho_I(I) + \\lambda_k \\rho_k(k)$ - (2)\n",
    "\n",
    "오른쪽 수식의 첫번째 텀은 data term이며 두번째와 세번째 텀은 prior 혹은 regularization term이 됩니다. 두개의 람다는 각각의 prior에 대한 강도입니다. p_I에는 total variation, natural image statistics, L0-norm 과 같은 sparisty prior가 많이 사용됩니다. 위의 수식은 두개의 sub-problem에 대한 alternatingly optimizaing을 통해 최적화 될수 있습니다.\n",
    "\n",
    "## $f_l(l;k) = ||k * l - b ||^2 + \\lambda_I \\rho_I(I)$ - (3)\n",
    "## $f_k(k;I) = ||k * l - b ||^2 + \\lambda_k \\rho_k(k)$ - (4)\n",
    "\n",
    "이 논문에서는 분석을 쉽게 하기 위해 (2) 수식에 대한 변종을 고려하며 이는 image gradient를 기반으로 합니다. 우리는 l = {l_x, l_y} 로 정의하며 l_x, l_y는 각각 latent image의 수평, 수직에 해당하는 gradient map을 의미합니다. 우리는 [3,4,23]에서 했듯이 l_x, l_y를 독립으로 가정합니다. b={b_x,b_y} 또한 마찬가지로 정의합니다. 그후 수식 (2)를 다음과 같이 정의합니다.\n",
    "\n",
    "## $||k * l - b ||^2 = ||k * l_x - b_x ||^2 + ||k * l_y - b_y||^2$ - (5)\n",
    "## $\\rho_I(I) = \\sum_i\\phi(l_{x,i}) + \\phi(l_{y,i}) $ - (6)\n",
    "## $ \\rho_k(k) = ||k||^2$ - (7)\n",
    "\n",
    "i는 pixel index이며 phi(x)를 다음과 같이 정의합니다.\n",
    "\n",
    "## $\\phi(x)=\\left\\{\\begin{matrix}|x|^\\alpha,\\,\\, if \\,\\, |x| \\geq \\tau \\\\ \\tau^{\\alpha - 2}|x|^2, \\,\\, otherwise\\end{matrix}\\right.$ - (8)\n",
    "\n",
    "흠.. alpha는..0~2사이인것 같고.. 알파가 클수록.. gradient들을 패널티를 더주고.. tau 안의 gradient는.. 엄청나게 많이.. 패널티를 주네..? 알파에 따라서.. 패널티는 더 커지고.. sparsity는 어디에서 나오는거지..? tau 안의 gradient에 엄청나게 많은 패널티를 주는거에서 sparsity가 나오나?\n",
    "\n",
    "0~2 p norm인것 같고 0~2 p norm에서 sparsity가 나오고.... o,w의 경우는 잘 모르겠는데.. 좀더 robust 해지기 위한 term 인가??,."
   ]
  },
  {
   "cell_type": "markdown",
   "metadata": {},
   "source": [
    "이를 통해 알파를 바꿔감으로써 blind-deconvlution의 수렴에 대한 p_l의 각기 다른 sparseness에 대한 분석을 효율적으로 할 수 있습니다. 우리는 모든 실험에 tau=0.01을 사용했습니다. bline-deconvolution을 위해 intensity와 gradinet를 함께 사용하는게 더 효율적이지만 gradient based energy function이 k=delta function일떄의 정확한 global optimum을 계산할 수 있도록 합니다. 결론적으로 우리의 분석을 보다 쉽도록 해줍니다.\n",
    "\n",
    "수식 (2) 에 대한 naive한 구현은 종종 올바른 솔루션으로 수렴하는 것을 실패하지만 no-blur 솔루션으로 수렴하느 것으로 알려져 있습니다. Levin은 이것이 sparsity prior와 natures of image blur 때문이라고 주장합니다. 이들은 image blur가 두가지 반대되는 효과가 있음을 보였습니다. <b>첫째로 image blur는 edge를 blurry 하게 만듭니다. 즉 image gradient가 less sparse하도록 합니다. 두번째로 image gradient의 분산을 줄이도록 하여 보다 sparser하게 만듭니다.</b> 기존의 방법들은 첫번째 효과에 기반한 sparsity prior를 이용하며 sharp latent image가 대부분 piecewise constant하며 약간의 step edge가 존재한다고 가정합니다. 그러나 natural sharp image는 부드러운 영역에서도 image gradient 큰 분산을 가지므로 첫번째 보다 두번째 효과가 더 강력합니다. 그러므로 이상적인 경우에 sparsity prior가 blurry 보다 sharp edge를 선호하더라도 여전히 blurry image 를 sharp image보다 선호할 수 있습니다. \n",
    "\n",
    "피규어 1은 image blur의 2번째 효과를 보여줍니다. 피규어 1-a는 sharp image, blur kernel의 쌍이며 이는 sharp solution을 표현합니다. 피규어 1-b는 blurred image와 delta blur kernerl이며 이는 no-blur solution을 보여줍니다. sharp solution과 no-blur solution은 둘다 같은 blurred image를 생성합니다. 우리는 이들의 각기 다른 알파에 대한 sparsity prior를 계산했습니다. 이전에 설명했듯이 sharp solution은 no-blur solution에 비해 높은 sparsity를 갖습니다. 이는 map 접근 방법의 naive implement의 실패를 설명합니다. "
   ]
  },
  {
   "cell_type": "markdown",
   "metadata": {},
   "source": [
    "## 4. Convergence Analysis\n",
    "\n",
    "## 4.1. Reformulated Energy Function\n",
    "\n",
    "우리의 분석에서는 energy function이 선호하는 솔루션이 어떤것인지를 찾기 위해 가장 직접적인 접근 방법을 사용합니다. 우리는 각기 다른 솔루션에 대한 energy value 를 비교합니다. 그러나 수식(2)는 모든 가능한 l,k 를 고려해야 하기 때문에 분석하기가 어렵습니다. 이를 다루기 위해 우리는 수식 (3)에서 도출된 energy function을 수식 (2) 에 넣음으로써 energy function을 수정합니다. \n",
    "\n",
    "## $ f(x) = min_I f(x, I) = f(k, \\hat{l_k}) = ||k * \\hat{l_k} - b ||^2 + \\lambda_I \\rho_I(\\hat{l_k}) +\\lambda_k \\rho_k(k) $ - (9)\n",
    "## $ where \\,\\, \\hat{l_k} = argmin_I f_I(I;k)$ - (10)\n",
    "\n",
    "\n",
    "수식 (9)는 더이상 k,l에 대한 함수가 아니며 k에 대한 함수가 됩니다. k가 주어졌을때의 f(k)를 계산하기 위해서 우리는 먼저 수식 (10)의 optimal l_k를 계산하고 수식 (9)를 고려합니다. 수식 (9)를 최적화 하는 것은 수식 (2)를 최적화 하는 것과 동일하며 이는 sec 4.3에서 보여줍니다. 결론적으로 수식 (9)를 분석하는 것은 수식 (2)를 분석하는 것과 같게 됩니다.\n",
    "\n",
    "수식 (9)가 하나의 변수만을 가지더라도 이는 수식 (10)의 non-convexity 때문에 정확한 energy value를 구하는 것이 실현불가능 합니다. 그러므로 우리의 분석에서는 근사치를 계산합니다. k가 주어지면 우리는 수식 (10)을 IRLS를 사용하여 먼저 latent image에 대한 근사인 $\\hat I_k^{IRLS}$을 얻습니다. 그 후 수식 (9) 에 집어 넣어 근사된 $f^{IRLS}(k)$ 를 계산합니다. \n",
    "\n"
   ]
  },
  {
   "cell_type": "markdown",
   "metadata": {},
   "source": [
    "<b>Exact Energy of No-Blur Solution. </b> 운이 없게도, kernel이 주어졌을때의 true energy보다 큰 근사치로써 $f^{IRLS}(k)$는 신뢰성이 떨어집니다. 이 때문에 보다 정확한 분석을 위해 우리는 no-blur solution에 대한 정확한 enery value를 계산합니다. 이는 수식 (10)의 non-convex 때문에 일반적인 kernel에 대한 true value를 계산하는 것은 불가능합니다. 수식 (10)은 k=delta function 일때 pixel-wise independent 하게 되며 $\\hat{f^{opt}_\\delta}$ 을 다음과 같이 풀 수 있습니다.\n",
    "\n",
    "## $argmin_{I_{*,i}|* \\in \\{x,y\\}}  |I_{*,i} - b_{*,i}|^2 + \\lambda_I \\phi(I_{*,i})$ -(11)\n",
    "\n",
    "x, y에 대한 각각의 솔루션은 independently 하게 되며 수식 (11)은 exhaustive search를 통해 쉽게 풀 수 있습니다.\n",
    "\n",
    "<b>Analysis</b> 수식 (9)가 수식 (2)의 간단한 형태입니다. 수식 (9) $\\hat{l_k}$ 가 더이상 임의의 이미지가 아닌 주어진 kernel과 결합된 sparse한 latent image가 됩니다. 이 경우 자연의 sharp image와 다르게 $\\hat{l_k}$ 는 smooth region에서 변동이 별로 없으며 flat region과 몇몇의 edge를 가지게 됩니다. 그 후 수식 (9) 에 붙어있는 $\\rho_I(\\hat{l_k})$ sparsity prior 는 아까 설명한 image blur의 두번째 효과에 영향을 받지 않게 되며 첫번째 효과에 영향을 받게 됩니다. 이 결과 수식(9) 는 no-blur 솔루션이 아닌 sharp solution을 선호하게 됩니다. (수식 10을 살펴보면 모든 pixel에 대해서.. sparsity가 걸려있음 그럼... 솔루션은 모든 픽셀이 비슷한 값을 가지도록 만들 것이다. 즉 수식 10을 풂으로써.. latent image를 flat 하게 만들어 줫으니까.. 이제 kernel이 얼마나 edge를 sharp하게만 만들어줄까를 볼수 있다는 느낌일려나?)\n",
    "\n",
    "이를 확인하기 위해 우리는 피규어 1에서 no-blur, sharp 솔루션에 대한 refomulated energy value를 비교했습니다. no-blur, sharp 솔루션을 각각 $k_{gt}$, $k_{\\delta}$ 라고 정의합니다. $k_{gt}$를 계산하기 위해서 먼저 sparse latent image $I^{IRLS}(k_{gt})$ 에 대한 근사 값을 구하며 이를 사용하여 $f^{IRLS}(k_{gt})$ 를 계싼합니다. $k_{\\delta}$를 위해선 근사값과 true energy value를 모두 비교합니다. \n",
    "\n",
    "피규어 2는 no-blur, sharp 커널에 대한 latent image, energy value를 계산한 것을 보여줍니다. 위에서 언급한 대로 sparse latent image는 smooth region안에 거의 variation이 없고 몇개의 edge만을 가진 이미지입니다. sharp 커널에 대한 energy value와 regularization value 는 no-blur 커널의 값보다 작습니다. 더 중요한 것은 sharp 커널에 대한 energy value가 근사값 일뿐이지만 no-blur 커널의 true energy 보다도 작습니다. 이는 수식 (9) 에 대한 global optimum이 수식 (2) 에 대한 global optimum과 같다는 것을 의미합니다. 이는 no-blur solution보다 sharp solution을 선호하게 됩니다. <b>왜 수식 9랑 2랑 global optimum이 같아지게 되는거지.. non-convex optimization을 알아야 하나??</b>"
   ]
  },
  {
   "cell_type": "markdown",
   "metadata": {},
   "source": [
    "## 4.2. Conditions for Avoiding No-Blur Solution\n",
    "\n",
    "이 섹션에서는 map 방법이 언제 올바른 솔루션으로 수렴하는지를 분석합니다. 결국에는 다음과 같은 조건을 고려합니다.\n",
    "\n",
    "## $f(k_{gt}) / f(k_{\\delta}) < 1$ -(12)\n",
    "## $\\rho_I(\\hat{l_{gt}}) / \\rho_l(\\hat{l_{\\delta}}) < 1$ - (13)\n",
    "\n",
    "첫번째 조건만으로도 no-blur 솔루션을 피하는데 충분하지만 두번째 조건도 고려합니다. $\\rho_I$ 에 대한 조건이 sharp, blurry latent image를 구별하는데 가장 중요합니다. 두번째 조건을 만족하기 위해선 sharp, blurry latent image이 섹션 4.1에서 볼 수 있는 만큼 충분히 sparse 해야 합니다. 이 의미는 $\\lambda_I$ 가 충분히 크고(sparse 패널티를 많이주고) $\\alpha$ 가 작아야 합니다.(보다 L0 norm에 가까운 norm을 사용해야 합니다.) 만약 $\\lambda_I$이 너무 작게 된다면 추정된 latent image는 natural sharp image와 비슷해 보이지만 smooth region에서 많은 variation이 있을 것입니다. 즉 섹션 4.1에서 언급했던 blur의 두번째 효과에 영향을 많이 받게 될 것입니다. 반면에 $\\lambda_I$를 너무 크게 잡는다면 sharp kernel, no-blur kernel로 부터 추정된 latent image는 완전히 flat image이며 아예 edge가 없을 것이며 이들은 구별할수 없을 것입니다. $\\alpha$를 크게 잡는다면 보다 burry edge를 보일 것이며 두 커널로 부터 추정된 latetn image를 구별할 수 없을 것입니다.\n"
   ]
  },
  {
   "cell_type": "markdown",
   "metadata": {},
   "source": [
    "\n",
    "피규어 3은 각기 다른 하이퍼파라미터에 대해서 첫번째 조건과 두번째 조건을 플롯한 결과입니다. (a), (b) 플롯이 true bound (true bound가 뭐지?? 어디나와있지 true를 구할 수 없다고 하지 않았나? 아마 (a) 플롯이 (b) 플롯보다 1을 가르는 bound가 타이트하다는 것인듯 ground truth kernel, sharp image를 가지고 있다면 (b)는 true 값을 구할수 잇나보다.) 보다 tighter 하다는 것을 주목합시다. 이러한 tighter bound에도 불구하고 피규어 3은 ground truth blur-kernel이 충분한 람다값과 작은 알파값일 경우 no-blur kernel 보다 선호된다는 것을 보여줍니다. $\\lambda_I$가 매우 큰 경우 latent image는 완전히 0값만 가지게 되어 둘을 구별할 수 없게 됩니다. \n",
    "\n",
    "수렴범위를 보다 엄격하게 조사하기 위해 우리는 수식 (12)의 ratio를 두개의 데이터셋 Levin, Sun에 대해 계산했습니다. Levin의 데이터셋은 32개의 blurred image가 존재하며 이들은 4개의 이미지와 8개의 blur-kernel에 의해 생성되었습니다. 반면 sun 데이터셋은 640개의 자연환경에서 인공적인 환경으로 이루어진 80개의 sharp 이미지를 8개의 blur-kerenl을 통해 생성한 데이터셋입니다. 이 실험에서 우리는 알파=0.1과 다양한 람다값에 대해서 energy value의 비율을 계산하였고 피규어 4는 알파와 람다가 적절히 설정되었을 경우 대부분의 이미지에서 ground truth kernel이 no-blur kernel보다 선호된다는 것을 보여줍니다. 또한 다른 blur kernel과 이미지는 각기 다른 energy value ratio를 가지지만 비슷한 경향성을 보인다는 것을 발견했습니다. 이는 람다값을 잘 선택하는 것이 대부분의 image와 blur-kernel을 cover 할수잇다는 것을 말해줍니다. \n",
    "\n",
    "또한 대부분의 람다에서 energy value ratio가 1이상인 경우를 살펴보는 것도 중요합니다. 이는 energy function이 ground truth와 no-blur solution을 구별하지 못한다는 것입니다. 이러한 이미지의 경우에는 상대적으로 적은 edge를 포함하고 있으며 기존의 방법들이 이러한 이미지에서 실패합니다. 우리의 분석은 이러한 실패는 다른 파라미터를 선택하는 것으로 해결하지 못하며 뭔가 더 향상된 알고리즘이 필요하다는 것을 나타냅니다. 이 논문의 나머지에서는 알파는 0.1, 람다는 0.00064를 사용하며 이는 이 두 실험에서 가장 효율적인 파라미터이며 energy value ratio가 1이하인 이미지가 가장 많은 파라미터로 선택하였습니다."
   ]
  },
  {
   "cell_type": "markdown",
   "metadata": {},
   "source": [
    "## 4.3. Global Optimum and Convergence Analysis\n",
    "\n",
    "이번 섹션에서는 sharp , no-blur 솔루션의 energy value를 비교함으로써 map를 기반으로한 방법이 sharp solution을 선호한다는 것을 실험적으로 보일 것입니다. 이 섹션에서는 두가지 질문에 대해 답할 것입니다. 첫번째는 수식 (9) global optimum이 true blur kernel과 같은 솔루션일까? 두번쨰는 기존의 방법들과 비교했을대 naive map blind-deconvolution이 얼마나 잘 작동할까?\n",
    "\n",
    "첫번째 질문에 대해서는 람다값이 충분히 클때 수식 (9)를 최소화 함으로써 얻어진 latent image가 sharp edge, flat region을 가지는지가 중요합니다. 다른 blur-kernel은 일반적으로 latetn image에서 blurry edge, 혹은 ringing artifact를 유발하고 이는 sparse penalty를 증가시켜 전체의 energy value를 증가시킵니다. 이는 수식 (10)에서의 복잡한 non-linear optimization 때문에 수식 (9) 를 계산하기 매우 어렵게되고 global optimum에 대한 특성을 증명하기 매우 어렵게 됩니다. 대신에 우리는 1d blur-kernel에 대한 간단한 실험을 통해 수식 (9) 가 올바른 솔루션으로 실험적으로 수렴한다는 것을 보였습니다.\n",
    "\n",
    "두번째 질문에 대해서는 기존의 성공적인 방법들로 explicit edge detection, edge reweighting, VB 등을 고려합니다. 이러한 기술들이 성능을 높여줄수 있지만 우리는 naive map 방법이 추가적인 요소없이도 잘 작동 할 수 잇음을 보입니다.\n",
    "\n",
    "피규어 6은 true blur kernel이 global optimum과 일치하는지를 간단한 실험을 통해 보여줍니다. 먼저 7 length의 1d blur kernel을 통해 sharp image를 blur시키고 각기 다른 length의 blur kernel에 대한 energy value를 계산합니다. 피규어 6(d) 는 다른 blur-kernel에 대한 energy value를 보여줍니다. 이 플롯은 enery function을 통해 ground truth blur kernel이 선호된다는 것을 보여줍니다.\n",
    "\n",
    "마지막으로, 수식 (9)를 최적화하는 naive map를 기반으로한 blind deconvolution을 구현하였습니다. 수식 (9) 에 대한 최적화는 수식 (2) 를 최적화 하는 것과 같습니다.\n",
    "\n",
    "또한 수식 (9)는 수식 (3), (4) 에 의해 기술된 최적화 과정과 정확히 일치하는 alternating optimization 과정을 산출합니다. 추정된 k가 주어졌을때 우리는 수식 (3)을 최적화 함으로써 latent image를 계산하고 그후 수식 (9)를 통해 k를 업데이트 합니다. 이는 수식 (4)를 최적화 하는 것과 같습니다. 우리는 single, multi scale 버젼을 구현하였고 람다는 0.001을 사용했습니다. 피규어 7 은 single-scale version이 true kernel과 가깝게 수렴하는 것을 보여줍니다. 또한 Levin 데이터셋의 사용하여 multi-scale version에 대한 성능 비교를 수행했습니다. 우리의 결과는 [9] 보다는 안좋았지만 이는 patch-based prior를 사용하였고, 다른 결과들과는 비교할 만 합니다. 이는 naive map 접근 방법이 다른 정교한 방법들과 비교할 만한 성능을 낼 수 있다는 것을 보여줍니다. 또한 true kernel로의 수렴이 true kernel이 global optimum 이라는 것을 의미하는 것은 아니더라도 true kernel 이 최적화 과정에서 다른 커널에 비해 선호된다는 것을 나타냅니다.\n"
   ]
  },
  {
   "cell_type": "markdown",
   "metadata": {},
   "source": [
    "## 5. Energy Function as a Kernel Quality Metric\n",
    "\n",
    "카메라 흔들림으로 인한 blur estimation 이외에도 image blur와 관련된 다른 많은 문제 들이 있습니다. defocus estimation, lens blur estimation, blur kernel size detection, fusion of deblurring  등이 존재합니다. 이러한 문제들에서 각기 다른 blur-kernel에 대한 품질을 평가하는 것은 매우 중요합니다. 불행히도 이들 문제들에서 잘 작동하는 universal metric 은 없으며 각기 다른 문제의 솔루션은 각기 다른 metric을 정의합니다.\n",
    "\n",
    "수식 (9)의 energy function은 blur kernel에 대한 함수가 되며 이는 람다가 적절히 설정되었을때 더 나은 blur kernel에 대해서 낮은 energy를 주게 됩니다. 이는 blur kernel을 비교하는데 효과적이고 간단한 metric을 제공하며 energy function을 metric으로 사용하는 것은 매우 직관적이고 명확합니다. 이러한 간단한 아이디어는 두가지 이유때문에 불가능 합니다. 첫번째로는 수식 (2)의 joint energy function은 k,l의 두가지 변수를 포함하며 이는 다른 문제에 이 energy function을 사용할지 불명확 합니다. 두번째로는 수식 (2)의 energy function 이 sharp solution을 선호하는지와 언제 수렴하는지가 불분명 하기 떄문입니다. 우리의 수정된 energt function은 이를 가능하게 합니다. 이 섹션에서는 energy function를 적용한 3가지 예제를 보여줍니다.\n"
   ]
  },
  {
   "cell_type": "markdown",
   "metadata": {},
   "source": [
    "## 5.1. Automatic Blur Kernel Size Selection Most\n",
    "\n",
    "대부분의 blind deconvolution method는 blur kenel size를 입력으로 요구합니다. 실제 blur size보다 작은 크기의 입력 kernel 은 잘못된 kernel 추정 결과를 낳습니다. 반면에 너무 큰 kernel size는 kernel estimation의 자유도를 높이고 이는 unstable, erroneous 결과를 초래하게 됩니다. 그러나 적절한 kernel size를 선택하는 것은 쉬운 일이 아닙니다. [14, 13] 과 같은 적절한 kernel size를 자동적으로 찾는 접근 방법이 있었습니다. Liu 는 각기 다른 size의 blur kernel의 집합을 통해 하나의 이미지를 deblurring 하였고 user study data를 통해 학습된 deblurring quality metric을 통해 적절한 kernel size를 찾았습니다. 최근에는 Liu는 kernel size estimation 방법을 제안하였고 이는 blurred image의 edge map의 autocorrelation을 통해 kernel size를 추정합니다. \n",
    "\n",
    "수식 (9)의 energy function은 적절한 kernel size를 찾는 간단한 방법을 제공합니다. [14]와 비슷하게 먼저 각기 다른 사이즈의 blur kerenl을 추정합니다. 그 후 각각의 kernel의 energy를 계산하고 가장 작은 energy를 선택합니다. \n",
    "\n",
    "이러한 각기 다른 blur kernel을 비교하기 위한 간단한 접근 방법은 우리의 분석 때문에 가능합니다. 우리의 수정된 energy function은 적절하게 추정된 latent image는 전체 energy를 계산하기 위해 사용됩니다. 우리는 또한 energy function이 올바른 솔루션을 선호하게 하기 위해 적절한 파라미터를 설정해야 한다는 것을 보였습니다. 예를 들어 부적절한 하이퍼파라미터 람다 = 0.00001 은 피규어 9.b,c,d 에 대해 13.0, 14.4, 16.5 의 값을 보입니다. 이는 energt function이 가장 작은 kernel중 no-blur 솔루션과 가까운 것을 선호하게 만듭니다."
   ]
  },
  {
   "cell_type": "markdown",
   "metadata": {},
   "source": [
    "## 5.2. Blur Kernel Estimation from Light Streaks\n",
    "\n",
    "카메라 흔들림으로 인한 image blur는 종종 light streak를 가집니다. 이는 light bulbs, flash lights, reflected light 등 때문에 생겨납니다. 이러한 light streak는 blur kernel에 대한 유용한 정보를 제공합니다. 몇몇 연구들이 blur kernel estimation을 위해 light streak를 사용하였습니다. Hua는 interative 방법을 제안하였습니다. 이는 light streak에 대한 bounding box를 사용자가 제공하면 휴리스틱한 image processing을 통해 blur kernel을 추출합니다. Zhe는 더 정교한 방법을 제안합니다. 이들의 방법은 blurred image에서 자동적으로 light streak를 찾고 blur kernel을 추정하는데 light streak를 사용합니다. light streak를 탐지하기 위해서 이들의 방법은 light streak patch를 탐지하기 위한 휴리스틱한 규칙의 집합을 사용합니다. 그 후 power-law of natural images(? 이게뭐지.. image intensity transformation?? 관한건가? 아닌것 같다.. transformation관한건) 를 기반으로해 best light streak patch를 골라냅니다. 이 best light streak patch를 가지고 추가적인 patch를 찾습니다. \n",
    "\n",
    "string edge에 민감하다고 알려진 power law 대신에 수식 (9)는 보다 직접적으로 light streak patch를 고르기 위한 measure를 제공합니다. [5]와 비슷하게 우리는 먼저 휴리스틱 규칙을 통해 후보군 light streak patch를 찾습니다. 우리의 실험에서는 [5]의 저자의 코드를 통해 초기 후보군을 찾습니다. 그 후 power law를 기반으로한 metric 대신에 수식 (9)를 사용한 energy value를 계산합니다. 그 후 가장 낮은 값의 patch를 선택합니다. 피규어 10은 몇몇 예제들을 보여줍니다. 각각 blurred image마다 우리는 가장 좋거나 나쁜 energy value를 가지는 patch를 보여줍니다. 수식 (9)에 의해 선택된 best patch는 blur kernel과 비슷한 반면 worst patch는 kernel과 비슷해 보이지 않습니다.\n"
   ]
  },
  {
   "cell_type": "markdown",
   "metadata": {},
   "source": [
    "## 5.3. Defocus Estimation\n",
    "\n",
    "defocus blur는 shallow depth-of-field of an imageing system 때문에 발생하며 이는 종종 공간적으로 다양하게 나타납니다. defocus blur의 양은 카메라와 대상과의 거리에 관련되어져 있으며 defocus information은 depth estimation, salent region estimation, fg/bg estimation, digital refocusing 등에서 의 유용한 정보로 사용됩니다. \n",
    "\n",
    "그러나 한장의 이미지에서의 defocus map을 추정하는 것은 매우 어려운 task 입니다. 왜냐하면 defocust blur의 양이 픽셀마다 다르기 때문입니다. 이러한 문제점을 극복하기 위해 이전의 방법들은 blur의 야을 탐지하는 feature들을 제안했습니다. Tai는 local contrast prior를 기반으로한 measure를 제안하였고 이는 local image contrast와 image gradient를 사용합니다. Zhuo는 defocused image를 가우시안 블러를 통해 re-blur 하고 dofocus map을 추정하기 위해 원래의 인풋의 gradient이미지와 가우시안 블러된 gradient image를 사용합니다.\n",
    "\n",
    "수식 (9)는 defocus blur의 양을 추정하기 위해 사용될 수 있습니다. 우리는 먼저 defocus blur의 모양이 이미 알려져 있다고 가정합니다. 하지만 size는 모르며 공간적으로 다를 수 있습니다. 수식 (9) 는 sparsity prior를 기반으로 하기 때문에 우리는 각기 다른 blur kerenel이 strong edge에 얼마나 robust한지를 비교 할 수 있습니다. 먼저 우리는 canny edge detector를 오해 edge를 탐지하고 탐지된 edge pixel에 대해 energy value를 비교합니다. 각각의 edge pixel에서의 blur kernel의 energy value는 edge pixel을 중심으로하는 local image region의 energy value로 정의합니다. 이를 통해 sparse defocust map을 얻을 수 있으며 각각의 edge pixel마다 각각 blur size가 추정됩니다. 그 후 matting laplacian 알고리즘을 사용하여 다른 픽셀들로 공간적으로 전파합니다.\n",
    "\n",
    "피규어 11은 defocust estimation의 예제를 보여줍니다. 피규어 11.b는 피규어 11.a로 부터 추정된 defocust map입니다. 밝은 픽셀은 더큰 defocus blur를 의미합니다. 피규어 11.c는 matting laplacian  알고리즘을 사용한 결과를 보여줍니다. 이미지의 위쪽이 더 멀고 더 defocust 된것으로 나타납니다. 11.d 는 추정된 defocust map을 통해 얻어진 focus image를 나타냅니다. 피규어 12는 "
   ]
  },
  {
   "cell_type": "markdown",
   "metadata": {},
   "source": [
    "## power law of image가 뭐지? 아마.. patch의 pixel 분포를 그리고.. power랑 가장 비슷한 애를 고른다는 건가?\n",
    "## 수식 (9)가 수식 (2)를 mimize하는 것과 동치인 것은..? iterative optimization을 공부하면 알 수 잇을려나.?"
   ]
  },
  {
   "cell_type": "markdown",
   "metadata": {},
   "source": [
    "## 내 이해\n",
    "\n",
    "## why sparse good?\n",
    "\n",
    "- natural image의 gradient가 sparse 하드라.. 우리의 latent gradient image도 sparse하기를 원한다.\n",
    "\n",
    "## what is problem?\n",
    "\n",
    "- <b>첫째로 image blur는 edge를 blurry 하게 만듭니다. 즉 image gradient가 less sparse하도록 합니다. 두번째로 image gradient의 분산을 줄이도록 하여 보다 sparser하게 만듭니다.</b>\n",
    "\n",
    "- natural image는 edge뿐만 아니라 smooth region에서도 variation of gradient가 있드라. sparse solution이라도.. smooth region을 더 smooth?혹은 flat 하게 만들수도 있드라 그러면 blurry latetn image를 얻더라"
   ]
  }
 ],
 "metadata": {
  "kernelspec": {
   "display_name": "Python 3",
   "language": "python",
   "name": "python3"
  },
  "language_info": {
   "codemirror_mode": {
    "name": "ipython",
    "version": 3
   },
   "file_extension": ".py",
   "mimetype": "text/x-python",
   "name": "python",
   "nbconvert_exporter": "python",
   "pygments_lexer": "ipython3",
   "version": "3.6.0"
  }
 },
 "nbformat": 4,
 "nbformat_minor": 2
}
